{
 "cells": [
  {
   "cell_type": "code",
   "execution_count": 8,
   "metadata": {},
   "outputs": [
    {
     "data": {
      "text/html": [
       "<div>\n",
       "<style scoped>\n",
       "    .dataframe tbody tr th:only-of-type {\n",
       "        vertical-align: middle;\n",
       "    }\n",
       "\n",
       "    .dataframe tbody tr th {\n",
       "        vertical-align: top;\n",
       "    }\n",
       "\n",
       "    .dataframe thead th {\n",
       "        text-align: right;\n",
       "    }\n",
       "</style>\n",
       "<table border=\"1\" class=\"dataframe\">\n",
       "  <thead>\n",
       "    <tr style=\"text-align: right;\">\n",
       "      <th></th>\n",
       "      <th>부위</th>\n",
       "      <th>장기</th>\n",
       "    </tr>\n",
       "  </thead>\n",
       "  <tbody>\n",
       "    <tr>\n",
       "      <th>0</th>\n",
       "      <td>이마</td>\n",
       "      <td>스트레스</td>\n",
       "    </tr>\n",
       "    <tr>\n",
       "      <th>1</th>\n",
       "      <td>코</td>\n",
       "      <td>비장</td>\n",
       "    </tr>\n",
       "    <tr>\n",
       "      <th>2</th>\n",
       "      <td>왼볼</td>\n",
       "      <td>간</td>\n",
       "    </tr>\n",
       "    <tr>\n",
       "      <th>3</th>\n",
       "      <td>오른볼</td>\n",
       "      <td>폐</td>\n",
       "    </tr>\n",
       "    <tr>\n",
       "      <th>4</th>\n",
       "      <td>턱</td>\n",
       "      <td>신장</td>\n",
       "    </tr>\n",
       "  </tbody>\n",
       "</table>\n",
       "</div>"
      ],
      "text/plain": [
       "    부위    장기\n",
       "0   이마  스트레스\n",
       "1    코    비장\n",
       "2   왼볼     간\n",
       "3  오른볼     폐\n",
       "4    턱    신장"
      ]
     },
     "execution_count": 8,
     "metadata": {},
     "output_type": "execute_result"
    }
   ],
   "source": [
    "import pandas as pd\n",
    "\n",
    "df = pd.read_csv('./acne_db/result_DB.csv', encoding='utf-8')\n",
    "df"
   ]
  },
  {
   "cell_type": "code",
   "execution_count": 14,
   "metadata": {},
   "outputs": [],
   "source": [
    "# SQLite 엔진 생성\n",
    "from sqlalchemy import create_engine, text\n",
    "from sqlalchemy.orm import Session\n",
    "\n",
    "engine = create_engine('sqlite:///acne.db', echo=True)"
   ]
  },
  {
   "cell_type": "code",
   "execution_count": 15,
   "metadata": {},
   "outputs": [
    {
     "name": "stdout",
     "output_type": "stream",
     "text": [
      "2025-03-10 11:15:33,359 INFO sqlalchemy.engine.Engine BEGIN (implicit)\n",
      "2025-03-10 11:15:33,363 INFO sqlalchemy.engine.Engine PRAGMA main.table_info(\"acne_db\")\n",
      "2025-03-10 11:15:33,365 INFO sqlalchemy.engine.Engine [raw sql] ()\n",
      "2025-03-10 11:15:33,368 INFO sqlalchemy.engine.Engine PRAGMA main.table_info(\"acne_db\")\n",
      "2025-03-10 11:15:33,368 INFO sqlalchemy.engine.Engine [raw sql] ()\n",
      "2025-03-10 11:15:33,369 INFO sqlalchemy.engine.Engine SELECT name FROM sqlite_master WHERE type='table' AND name NOT LIKE 'sqlite~_%' ESCAPE '~' ORDER BY name\n",
      "2025-03-10 11:15:33,370 INFO sqlalchemy.engine.Engine [raw sql] ()\n",
      "2025-03-10 11:15:33,371 INFO sqlalchemy.engine.Engine SELECT name FROM sqlite_master WHERE type='view' AND name NOT LIKE 'sqlite~_%' ESCAPE '~' ORDER BY name\n",
      "2025-03-10 11:15:33,372 INFO sqlalchemy.engine.Engine [raw sql] ()\n",
      "2025-03-10 11:15:33,374 INFO sqlalchemy.engine.Engine PRAGMA main.table_xinfo(\"acne_db\")\n",
      "2025-03-10 11:15:33,375 INFO sqlalchemy.engine.Engine [raw sql] ()\n",
      "2025-03-10 11:15:33,378 INFO sqlalchemy.engine.Engine SELECT sql FROM  (SELECT * FROM sqlite_master UNION ALL   SELECT * FROM sqlite_temp_master) WHERE name = ? AND type in ('table', 'view')\n",
      "2025-03-10 11:15:33,378 INFO sqlalchemy.engine.Engine [raw sql] ('acne_db',)\n",
      "2025-03-10 11:15:33,378 INFO sqlalchemy.engine.Engine PRAGMA main.foreign_key_list(\"acne_db\")\n",
      "2025-03-10 11:15:33,378 INFO sqlalchemy.engine.Engine [raw sql] ()\n",
      "2025-03-10 11:15:33,378 INFO sqlalchemy.engine.Engine PRAGMA temp.foreign_key_list(\"acne_db\")\n",
      "2025-03-10 11:15:33,378 INFO sqlalchemy.engine.Engine [raw sql] ()\n",
      "2025-03-10 11:15:33,378 INFO sqlalchemy.engine.Engine SELECT sql FROM  (SELECT * FROM sqlite_master UNION ALL   SELECT * FROM sqlite_temp_master) WHERE name = ? AND type in ('table', 'view')\n",
      "2025-03-10 11:15:33,385 INFO sqlalchemy.engine.Engine [raw sql] ('acne_db',)\n",
      "2025-03-10 11:15:33,387 INFO sqlalchemy.engine.Engine PRAGMA main.index_list(\"acne_db\")\n",
      "2025-03-10 11:15:33,387 INFO sqlalchemy.engine.Engine [raw sql] ()\n",
      "2025-03-10 11:15:33,387 INFO sqlalchemy.engine.Engine PRAGMA main.index_info(\"ix_acne_db_index\")\n",
      "2025-03-10 11:15:33,387 INFO sqlalchemy.engine.Engine [raw sql] ()\n",
      "2025-03-10 11:15:33,387 INFO sqlalchemy.engine.Engine PRAGMA main.index_list(\"acne_db\")\n",
      "2025-03-10 11:15:33,387 INFO sqlalchemy.engine.Engine [raw sql] ()\n",
      "2025-03-10 11:15:33,387 INFO sqlalchemy.engine.Engine PRAGMA main.index_info(\"ix_acne_db_index\")\n",
      "2025-03-10 11:15:33,387 INFO sqlalchemy.engine.Engine [raw sql] ()\n",
      "2025-03-10 11:15:33,387 INFO sqlalchemy.engine.Engine SELECT sql FROM  (SELECT * FROM sqlite_master UNION ALL   SELECT * FROM sqlite_temp_master) WHERE name = ? AND type in ('table', 'view')\n",
      "2025-03-10 11:15:33,387 INFO sqlalchemy.engine.Engine [raw sql] ('acne_db',)\n",
      "2025-03-10 11:15:33,397 INFO sqlalchemy.engine.Engine \n",
      "DROP TABLE acne_db\n",
      "2025-03-10 11:15:33,397 INFO sqlalchemy.engine.Engine [no key 0.00088s] ()\n",
      "2025-03-10 11:15:33,403 INFO sqlalchemy.engine.Engine \n",
      "CREATE TABLE acne_db (\n",
      "\t\"부위\" TEXT, \n",
      "\t\"장기\" TEXT\n",
      ")\n",
      "\n",
      "\n",
      "2025-03-10 11:15:33,404 INFO sqlalchemy.engine.Engine [no key 0.00106s] ()\n",
      "2025-03-10 11:15:33,409 INFO sqlalchemy.engine.Engine INSERT INTO acne_db (\"부위\", \"장기\") VALUES (?, ?)\n",
      "2025-03-10 11:15:33,409 INFO sqlalchemy.engine.Engine [generated in 0.00106s] [('이마', '스트레스'), ('코', '비장'), ('왼볼', '간'), ('오른볼', '폐'), ('턱', '신장')]\n",
      "2025-03-10 11:15:33,411 INFO sqlalchemy.engine.Engine COMMIT\n"
     ]
    },
    {
     "data": {
      "text/plain": [
       "5"
      ]
     },
     "execution_count": 15,
     "metadata": {},
     "output_type": "execute_result"
    }
   ],
   "source": [
    "df.to_sql(\n",
    "    name='acne_db',\n",
    "    con=engine,\n",
    "    if_exists='replace',\n",
    "    index=False\n",
    ")"
   ]
  },
  {
   "cell_type": "code",
   "execution_count": 16,
   "metadata": {},
   "outputs": [
    {
     "name": "stdout",
     "output_type": "stream",
     "text": [
      "2025-03-10 11:15:37,788 INFO sqlalchemy.engine.Engine BEGIN (implicit)\n",
      "2025-03-10 11:15:37,788 INFO sqlalchemy.engine.Engine SELECT * FROM acne_db\n",
      "2025-03-10 11:15:37,790 INFO sqlalchemy.engine.Engine [generated in 0.00060s] ()\n",
      "[('이마', '스트레스'), ('코', '비장'), ('왼볼', '간'), ('오른볼', '폐'), ('턱', '신장')]\n",
      "2025-03-10 11:15:37,793 INFO sqlalchemy.engine.Engine ROLLBACK\n"
     ]
    }
   ],
   "source": [
    "with Session(engine) as session:\n",
    "    result = session.execute(text(\"SELECT * FROM acne_db\"))\n",
    "    rows = result.fetchall()\n",
    "    print(rows[:5]) "
   ]
  }
 ],
 "metadata": {
  "kernelspec": {
   "display_name": ".venv",
   "language": "python",
   "name": "python3"
  },
  "language_info": {
   "codemirror_mode": {
    "name": "ipython",
    "version": 3
   },
   "file_extension": ".py",
   "mimetype": "text/x-python",
   "name": "python",
   "nbconvert_exporter": "python",
   "pygments_lexer": "ipython3",
   "version": "3.11.9"
  }
 },
 "nbformat": 4,
 "nbformat_minor": 2
}
